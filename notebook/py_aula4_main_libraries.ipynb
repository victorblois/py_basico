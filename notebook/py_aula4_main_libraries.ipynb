{
 "cells": [
  {
   "cell_type": "markdown",
   "metadata": {},
   "source": [
    "# Principais Bibliotecas\n",
    "\n",
    "\n",
    "### **Numpy:**   \n",
    "Numpy é uma biblioteca fundamental para computação científica com Python. Suas principais funcionalidades:  \n",
    "– Array de n dimensões  \n",
    "– Funções sofisticadas para trabalhar com esses arrays    \n",
    "– Ferramentas para integrar código C/C++ e Fortran . \n",
    "– Útil para álgebra linear, transformada de Fourier e capacidade de gerar números aleatórios.  \n",
    "\n",
    "### **Pandas:**  \n",
    "Pandas é uma biblioteca de código aberto para análise de dados em Python.   \n",
    "– É possível processar diversos conjuntos de dados em diferentes formatos (Series temporais, dados tabulares heterogêneos, e matrizes).  \n",
    "– Facilidade de importar dados de diversas fontes como CSV, JSON entre outros.  \n",
    "– Podemos lidar com diversas operações nesses conjuntos de dados: filtragem, agrupamento, reordenamento, remodelação, junção, fatiamento, entre outros.  \n",
    "– Facilita trabalhar com dados que estão faltando.  \n",
    "– Tem uma boa integração com outras bibliotecas Python, como a matplotlib e scikit-lean.  \n",
    "\n",
    "\n",
    "### **Statsmodels:**  \n",
    "É um biblioteca Python que fornece classes e funções para estimativa de diversas funções estatísticas.  \n",
    "– Diversos modelos de regressão  \n",
    "– Estatística descritiva  \n",
    "– Testes estatísticos  \n",
    "– Análise de series temporais  \n"
   ]
  },
  {
   "cell_type": "markdown",
   "metadata": {},
   "source": [
    "### **Scikit-learn:**\n",
    "É uma biblioteca para aprendizado de máquina em Python, que tem como principal foco:  \n",
    "– Fornecer ferramentas eficientes e simples para Data Mining e Data Analysis.  \n",
    "– Acessível para todos e reutilizável em vários contextos  \n",
    "– Sua construção faz uso do NumPy, SciPy e matplotlib  \n",
    "As principais características:  \n",
    "– Modelos lineares generalizados  \n",
    "– SVMs, kNN, Bayes , Decision Trees , Ensembles  \n",
    "– Algoritmos de Clustering e Density  \n",
    "– Validação cruzada, Pipelining , Avaliação dos modelos \n",
    "– Transformações dos conjuntos de dados  \n",
    "\n",
    "### **TensorFlow:**   \n",
    "É uma biblioteca que realiza a computação numérica como um grafo\n",
    "– Os nós do grafo são operações que tem qualquer número de entradas e saídas.  \n",
    "– As arestas do grafo são tensores (tensor) que flui (flow) entre os nós e representam dados em arrays multidimensionais.  \n",
    "– A arquitetura flexível permite que a computação seja realizada tanto na CPU como na GPU.  \n",
    "\n",
    "### **Matplotlib:**  \n",
    "É uma das bibliotecas de visualização mais antiga do Python(2002), porém muito utilizada. \n",
    "– Funciona muito bem para realizarmos análises iniciais no dados.\n",
    "– Galeria de exemplos: http://matplotlib.org/examples/index.html\n",
    "\n",
    "### **Bokeh:** \n",
    "É uma biblioteca de visualização interativa que roda nos principais navegadores.  \n",
    "– Foi criado pela Continuum Analytics.\n",
    "– Possibilita construir de forma simples e rápida gráficos elegantes , concisos e de alto desempenho em grandes volumes de dados.\n",
    "– Galeria de exemplos: https://bokeh.pydata.org/en/latest/docs/gallery.html  \n",
    "\n",
    "### **NLTK:**  \n",
    "É uma plataforma para criação de programas Python para trabalhar com dados de linguagem humana.\n",
    "– Ele fornece interfaces fáceis de usar para mais de 50 corpora e recursos léxicos, além é claro de conter um conjunto de ferramentas para processar o texto, como:\n",
    "– Classificação, tokenização, derivação, marcação, análise e raciocínio semântico.\n"
   ]
  },
  {
   "cell_type": "code",
   "execution_count": null,
   "metadata": {},
   "outputs": [],
   "source": []
  }
 ],
 "metadata": {
  "kernelspec": {
   "display_name": "Python 3",
   "language": "python",
   "name": "python3"
  },
  "language_info": {
   "codemirror_mode": {
    "name": "ipython",
    "version": 3
   },
   "file_extension": ".py",
   "mimetype": "text/x-python",
   "name": "python",
   "nbconvert_exporter": "python",
   "pygments_lexer": "ipython3",
   "version": "3.7.6"
  }
 },
 "nbformat": 4,
 "nbformat_minor": 2
}
