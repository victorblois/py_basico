{
 "cells": [
  {
   "cell_type": "markdown",
   "metadata": {},
   "source": [
    "--- \n",
    "# Funções"
   ]
  },
  {
   "cell_type": "code",
   "execution_count": 23,
   "metadata": {},
   "outputs": [],
   "source": [
    "import os.path\n",
    "def path_base(base_name):\n",
    "    current_dir = os.path.abspath(os.path.join(os.getcwd()))\n",
    "    data_dir = current_dir.replace('notebook','data')\n",
    "    data_base = data_dir + '\\\\' + base_name\n",
    "    return data_base"
   ]
  },
  {
   "cell_type": "code",
   "execution_count": 24,
   "metadata": {},
   "outputs": [],
   "source": [
    "arq = open(path_base(\"arquivo.txt\"), \"w\")\n",
    "for i in range(1, 5):\n",
    "    arq.write('{}. Escrevendo em arquivo\\n'.format(i))\n",
    "arq.close()"
   ]
  },
  {
   "cell_type": "code",
   "execution_count": 25,
   "metadata": {},
   "outputs": [
    {
     "name": "stdout",
     "output_type": "stream",
     "text": [
      "1. Escrevendo em arquivo\n",
      "2. Escrevendo em arquivo\n",
      "3. Escrevendo em arquivo\n",
      "4. Escrevendo em arquivo\n",
      "\n"
     ]
    }
   ],
   "source": [
    " arq = open(path_base(\"arquivo.txt\"), \"r\")\n",
    "texto = arq.read()\n",
    "print(texto)\n",
    "arq.close()"
   ]
  },
  {
   "cell_type": "code",
   "execution_count": 26,
   "metadata": {},
   "outputs": [
    {
     "name": "stdout",
     "output_type": "stream",
     "text": [
      "['1. Escrevendo em arquivo\\n', '2. Escrevendo em arquivo\\n', '3. Escrevendo em arquivo\\n', '4. Escrevendo em arquivo\\n']\n"
     ]
    }
   ],
   "source": [
    "arq = open(path_base(\"arquivo.txt\"), \"r\")\n",
    "texto = arq.readlines()\n",
    "print(texto)\n",
    "arq.close()"
   ]
  },
  {
   "cell_type": "markdown",
   "metadata": {},
   "source": [
    "# Arquivos\n",
    "\n",
    "open(): cria senão existir  \n",
    "read()  \n",
    "close()  "
   ]
  },
  {
   "cell_type": "code",
   "execution_count": 27,
   "metadata": {},
   "outputs": [],
   "source": [
    "class Arquivo():\n",
    "    def leitura(nome,type='read'):\n",
    "        arq = open(nome,mode='r')\n",
    "        if type != 'readlines':\n",
    "            texto = arq.read()\n",
    "        else:\n",
    "            texto = arq.readlines()\n",
    "        arq.close()        \n",
    "        return texto\n",
    "\n",
    "    def escrita(nome,texto):\n",
    "        arq = open(nome,mode='w')\n",
    "        arq.write(texto)\n",
    "        arq.close()  \n"
   ]
  },
  {
   "cell_type": "code",
   "execution_count": 28,
   "metadata": {},
   "outputs": [],
   "source": [
    "texto = ''\n",
    "for i in range(0,5):\n",
    "    texto += 'Linha {} de {}.\\n'.format(i+1,5)\n",
    "Arquivo.escrita(path_base('Meu_arquivo.txt'),texto)"
   ]
  },
  {
   "cell_type": "code",
   "execution_count": 29,
   "metadata": {},
   "outputs": [
    {
     "name": "stdout",
     "output_type": "stream",
     "text": [
      "Linha 1 de 5.\n",
      "Linha 2 de 5.\n",
      "Linha 3 de 5.\n",
      "Linha 4 de 5.\n",
      "Linha 5 de 5.\n",
      "\n",
      "['Linha 1 de 5.\\n', 'Linha 2 de 5.\\n', 'Linha 3 de 5.\\n', 'Linha 4 de 5.\\n', 'Linha 5 de 5.\\n']\n"
     ]
    }
   ],
   "source": [
    "print(Arquivo.leitura(path_base('Meu_arquivo.txt')))\n",
    "print(Arquivo.leitura(path_base('Meu_arquivo.txt'),'readlines'))"
   ]
  },
  {
   "cell_type": "markdown",
   "metadata": {},
   "source": [
    "# Contar palavras de um arquivo\n",
    "# e retornar um dicionário"
   ]
  },
  {
   "cell_type": "code",
   "execution_count": 30,
   "metadata": {},
   "outputs": [],
   "source": [
    "# Tendo como entrada uma lista de palavras\n",
    "# Gera um dicionario com palvras e quantidade de ocorrencias\n",
    "def conta_palavras(texto):\n",
    "    d = {}\n",
    "    for palavra in texto:\n",
    "        if d.get(palavra):\n",
    "            d[palavra] += 1\n",
    "        else:\n",
    "            d[palavra] = 1\n",
    "    return d\n"
   ]
  },
  {
   "cell_type": "code",
   "execution_count": 31,
   "metadata": {},
   "outputs": [
    {
     "name": "stdout",
     "output_type": "stream",
     "text": [
      "['Sapato\\n', 'Meia\\n', 'Sapato\\n', 'Óculos\\n', 'Sapato\\n', 'Meia\\n']\n",
      "{'Sapato': 3, 'Meia': 2, 'Óculos': 1}\n"
     ]
    }
   ],
   "source": [
    "import re\n",
    "texto = 'Sapato\\nMeia\\nSapato\\nÓculos\\nSapato\\nMeia\\n'\n",
    "Arquivo.escrita(path_base('Meu_arquivo.txt'),texto)\n",
    "print(Arquivo.leitura(path_base('Meu_arquivo.txt'),'readlines'))\n",
    "texto = Arquivo.leitura(path_base('Meu_arquivo.txt'),'readlines')\n",
    "texto = [re.sub('\\n', '', linha) for linha in texto]\n",
    "texto = conta_palavras(texto)\n",
    "print(texto)"
   ]
  },
  {
   "cell_type": "markdown",
   "metadata": {},
   "source": [
    "# Outras funcoes\n",
    "\n",
    "isinstance(objeto, class_or_tuple)  \n",
    "sorted"
   ]
  },
  {
   "cell_type": "code",
   "execution_count": 13,
   "metadata": {},
   "outputs": [
    {
     "name": "stdout",
     "output_type": "stream",
     "text": [
      "[12, 15, 18]\n",
      "['v', 't', 'r', 'o', 'i', 'c']\n"
     ]
    }
   ],
   "source": [
    "print(sorted([18,12,15]))\n",
    "print(sorted('victor',reverse=True))"
   ]
  },
  {
   "cell_type": "code",
   "execution_count": 14,
   "metadata": {},
   "outputs": [],
   "source": [
    "def f(a,b,c=8):\n",
    "    print(a,b,c)"
   ]
  },
  {
   "cell_type": "code",
   "execution_count": 15,
   "metadata": {},
   "outputs": [
    {
     "name": "stdout",
     "output_type": "stream",
     "text": [
      "1 2 3\n",
      "1 2 8\n",
      "1 2 3\n",
      "2 3 1\n"
     ]
    }
   ],
   "source": [
    "f(1,2,3)\n",
    "f(1,2)\n",
    "f(1,2,3)\n",
    "f(c=1,a=2,b=3)"
   ]
  },
  {
   "cell_type": "code",
   "execution_count": 16,
   "metadata": {},
   "outputs": [],
   "source": [
    "# Coleta de arqumentos posicionais em uma tupla\n",
    "def f(*args):\n",
    "    print(args)"
   ]
  },
  {
   "cell_type": "code",
   "execution_count": 17,
   "metadata": {},
   "outputs": [
    {
     "name": "stdout",
     "output_type": "stream",
     "text": [
      "()\n",
      "(1,)\n",
      "(1, 2, 3)\n",
      "(1, 2)\n",
      "(1, 2, [True, 0])\n"
     ]
    }
   ],
   "source": [
    "f()\n",
    "f(1)\n",
    "f(1,2,3)\n",
    "f(1,2)\n",
    "f(1,2,[True,0])"
   ]
  },
  {
   "cell_type": "code",
   "execution_count": 18,
   "metadata": {},
   "outputs": [],
   "source": [
    "# Coleta de arqumentos de palavras chaves restantes emum dicionario\n",
    "def f(**args):\n",
    "    print(args)"
   ]
  },
  {
   "cell_type": "code",
   "execution_count": 19,
   "metadata": {},
   "outputs": [
    {
     "name": "stdout",
     "output_type": "stream",
     "text": [
      "{}\n",
      "{'a': 1}\n",
      "{'nome': 'José', 'idade': 25}\n"
     ]
    }
   ],
   "source": [
    "f()\n",
    "f(a=1)\n",
    "f(nome='José',idade=25)"
   ]
  },
  {
   "cell_type": "markdown",
   "metadata": {},
   "source": [
    "# Retornar um dicionario que tenha a contagem de caracteres de uma frase ordenado"
   ]
  },
  {
   "cell_type": "code",
   "execution_count": 37,
   "metadata": {},
   "outputs": [],
   "source": [
    "frase = 'Eu quero dormir 22 horas por dia!!!'"
   ]
  },
  {
   "cell_type": "code",
   "execution_count": 38,
   "metadata": {},
   "outputs": [],
   "source": [
    "def sort_dic(dic):\n",
    "    new_dic = {}\n",
    "    for k in sorted(dic.keys()):\n",
    "        new_dic[k] = dic[k]\n",
    "    return new_dic"
   ]
  },
  {
   "cell_type": "code",
   "execution_count": 39,
   "metadata": {},
   "outputs": [
    {
     "name": "stdout",
     "output_type": "stream",
     "text": [
      "{' ': 6, '!': 3, '2': 2, 'E': 1, 'a': 2, 'd': 2, 'e': 1, 'h': 1, 'i': 2, 'm': 1, 'o': 4, 'p': 1, 'q': 1, 'r': 5, 's': 1, 'u': 2}\n"
     ]
    }
   ],
   "source": [
    "dic = {}\n",
    "for letra in frase:\n",
    "    if dic.get(letra):\n",
    "        dic[letra]+=1\n",
    "    else:\n",
    "        dic[letra]=1\n",
    "               \n",
    "print(sort_dic(dic))"
   ]
  },
  {
   "cell_type": "markdown",
   "metadata": {},
   "source": [
    "# Imprimir apenas a,e,i,o,u"
   ]
  },
  {
   "cell_type": "code",
   "execution_count": 54,
   "metadata": {},
   "outputs": [
    {
     "name": "stdout",
     "output_type": "stream",
     "text": [
      "\n"
     ]
    }
   ],
   "source": [
    "nova_frase = ''\n",
    "for letra in frase:\n",
    "    if letra.lower() in ('a','e','i','o','u', ' '):\n",
    "        nova_frase = nova_frase + letra\n",
    "print(nova_frase)"
   ]
  },
  {
   "cell_type": "markdown",
   "metadata": {},
   "source": [
    "# Maior string"
   ]
  },
  {
   "cell_type": "code",
   "execution_count": 59,
   "metadata": {},
   "outputs": [],
   "source": [
    "def maior_string(str1,str2):\n",
    "    if len(str1)>= len(str2):\n",
    "        return str1\n",
    "    else:\n",
    "        return str2"
   ]
  },
  {
   "cell_type": "code",
   "execution_count": 61,
   "metadata": {},
   "outputs": [
    {
     "name": "stdout",
     "output_type": "stream",
     "text": [
      "Victor\n"
     ]
    }
   ],
   "source": [
    "print(maior_string('Victor','Blois'))"
   ]
  },
  {
   "cell_type": "markdown",
   "metadata": {},
   "source": [
    "# Filtrar palavras que começam com a letra em lista"
   ]
  },
  {
   "cell_type": "code",
   "execution_count": 71,
   "metadata": {},
   "outputs": [],
   "source": [
    "nomes = ['Maria','maria','Martins','Gugs','Bisc8']"
   ]
  },
  {
   "cell_type": "code",
   "execution_count": 90,
   "metadata": {},
   "outputs": [],
   "source": [
    "def inicia_com(lista,letra):\n",
    "    return [aux for aux in lista if aux.lower().startswith(letra.lower())]\n"
   ]
  },
  {
   "cell_type": "code",
   "execution_count": 95,
   "metadata": {},
   "outputs": [
    {
     "data": {
      "text/plain": [
       "['Maria', 'maria', 'Martins']"
      ]
     },
     "execution_count": 95,
     "metadata": {},
     "output_type": "execute_result"
    }
   ],
   "source": [
    "inicia_com(nomes,'M')"
   ]
  },
  {
   "cell_type": "code",
   "execution_count": null,
   "metadata": {},
   "outputs": [],
   "source": []
  },
  {
   "cell_type": "code",
   "execution_count": 10,
   "metadata": {},
   "outputs": [],
   "source": [
    "def maximo(x, y):\n",
    "    if x > y:\n",
    "        return x\n",
    "    else:\n",
    "        return y"
   ]
  },
  {
   "cell_type": "code",
   "execution_count": 11,
   "metadata": {},
   "outputs": [
    {
     "data": {
      "text/plain": [
       "11"
      ]
     },
     "execution_count": 11,
     "metadata": {},
     "output_type": "execute_result"
    }
   ],
   "source": [
    "a = maximo(10,11)\n",
    "a"
   ]
  },
  {
   "cell_type": "code",
   "execution_count": 12,
   "metadata": {},
   "outputs": [],
   "source": [
    "def f(a, b, c):\n",
    "    res = [a,b,c]\n",
    "    return res"
   ]
  },
  {
   "cell_type": "code",
   "execution_count": 13,
   "metadata": {},
   "outputs": [
    {
     "name": "stdout",
     "output_type": "stream",
     "text": [
      "[1, 2, 3]\n",
      "[3, 2, 1]\n",
      "[1, 2, 3]\n"
     ]
    }
   ],
   "source": [
    "print(f(1, 2, 3))\n",
    "print(f(c=1, a=3, b=2))\n",
    "print(f(1, c=3, b=2))"
   ]
  },
  {
   "cell_type": "code",
   "execution_count": 14,
   "metadata": {},
   "outputs": [
    {
     "ename": "TypeError",
     "evalue": "f() missing 2 required positional arguments: 'b' and 'c'",
     "output_type": "error",
     "traceback": [
      "\u001b[1;31m---------------------------------------------------------------------------\u001b[0m",
      "\u001b[1;31mTypeError\u001b[0m                                 Traceback (most recent call last)",
      "\u001b[1;32m<ipython-input-14-6ba96ea1b5b5>\u001b[0m in \u001b[0;36m<module>\u001b[1;34m\u001b[0m\n\u001b[1;32m----> 1\u001b[1;33m \u001b[0mprint\u001b[0m\u001b[1;33m(\u001b[0m\u001b[0mf\u001b[0m\u001b[1;33m(\u001b[0m\u001b[1;36m1\u001b[0m\u001b[1;33m)\u001b[0m\u001b[1;33m)\u001b[0m\u001b[1;33m\u001b[0m\u001b[1;33m\u001b[0m\u001b[0m\n\u001b[0m",
      "\u001b[1;31mTypeError\u001b[0m: f() missing 2 required positional arguments: 'b' and 'c'"
     ]
    }
   ],
   "source": [
    "print(f(1))"
   ]
  },
  {
   "cell_type": "code",
   "execution_count": 15,
   "metadata": {},
   "outputs": [
    {
     "ename": "TypeError",
     "evalue": "f() missing 1 required positional argument: 'c'",
     "output_type": "error",
     "traceback": [
      "\u001b[1;31m---------------------------------------------------------------------------\u001b[0m",
      "\u001b[1;31mTypeError\u001b[0m                                 Traceback (most recent call last)",
      "\u001b[1;32m<ipython-input-15-2662df479133>\u001b[0m in \u001b[0;36m<module>\u001b[1;34m\u001b[0m\n\u001b[1;32m----> 1\u001b[1;33m \u001b[0mprint\u001b[0m\u001b[1;33m(\u001b[0m\u001b[0mf\u001b[0m\u001b[1;33m(\u001b[0m\u001b[1;36m1\u001b[0m\u001b[1;33m,\u001b[0m \u001b[1;36m3\u001b[0m\u001b[1;33m)\u001b[0m\u001b[1;33m)\u001b[0m\u001b[1;33m\u001b[0m\u001b[1;33m\u001b[0m\u001b[0m\n\u001b[0m",
      "\u001b[1;31mTypeError\u001b[0m: f() missing 1 required positional argument: 'c'"
     ]
    }
   ],
   "source": [
    "print(f(1, 3))"
   ]
  },
  {
   "cell_type": "code",
   "execution_count": 16,
   "metadata": {},
   "outputs": [
    {
     "ename": "TypeError",
     "evalue": "f() missing 1 required positional argument: 'c'",
     "output_type": "error",
     "traceback": [
      "\u001b[1;31m---------------------------------------------------------------------------\u001b[0m",
      "\u001b[1;31mTypeError\u001b[0m                                 Traceback (most recent call last)",
      "\u001b[1;32m<ipython-input-16-e44de74605c0>\u001b[0m in \u001b[0;36m<module>\u001b[1;34m\u001b[0m\n\u001b[1;32m----> 1\u001b[1;33m \u001b[0mprint\u001b[0m\u001b[1;33m(\u001b[0m\u001b[0mf\u001b[0m\u001b[1;33m(\u001b[0m\u001b[1;36m1\u001b[0m\u001b[1;33m,\u001b[0m \u001b[0mb\u001b[0m\u001b[1;33m=\u001b[0m\u001b[1;36m7\u001b[0m\u001b[1;33m)\u001b[0m\u001b[1;33m)\u001b[0m\u001b[1;33m\u001b[0m\u001b[1;33m\u001b[0m\u001b[0m\n\u001b[0m",
      "\u001b[1;31mTypeError\u001b[0m: f() missing 1 required positional argument: 'c'"
     ]
    }
   ],
   "source": [
    "print(f(1, b=7))"
   ]
  },
  {
   "cell_type": "code",
   "execution_count": 17,
   "metadata": {},
   "outputs": [],
   "source": [
    "# Corresponde e coleta argumentos posicionais restantes em uma tupla\n",
    "def f(*args):\n",
    "    return args"
   ]
  },
  {
   "cell_type": "code",
   "execution_count": 18,
   "metadata": {},
   "outputs": [
    {
     "name": "stdout",
     "output_type": "stream",
     "text": [
      "()\n",
      "(1,)\n",
      "(1, 2, 'a', [True, 0])\n"
     ]
    }
   ],
   "source": [
    "print(f())\n",
    "print(f(1))\n",
    "print(f(1, 2, 'a', [True, 0]))"
   ]
  },
  {
   "cell_type": "code",
   "execution_count": 19,
   "metadata": {},
   "outputs": [],
   "source": [
    "# Corresponde e coleta os argumentos de palavras-chave restantes em um dicionário\n",
    "def f(**args):\n",
    "    return args    "
   ]
  },
  {
   "cell_type": "code",
   "execution_count": 20,
   "metadata": {},
   "outputs": [
    {
     "name": "stdout",
     "output_type": "stream",
     "text": [
      "{}\n",
      "{'a': 1, 'b': 2}\n",
      "{'nome': 'Maria', 'idade': 30, 'altura': 1.65}\n"
     ]
    }
   ],
   "source": [
    "print(f())\n",
    "print(f(a=1, b=2))\n",
    "print(f(nome='Maria', idade=30, altura=1.65))"
   ]
  },
  {
   "cell_type": "markdown",
   "metadata": {},
   "source": [
    "---\n",
    "# Classes"
   ]
  },
  {
   "cell_type": "code",
   "execution_count": 21,
   "metadata": {},
   "outputs": [],
   "source": [
    "class Pessoa:\n",
    "    def __init__(self, nome, idade):\n",
    "        self.nome = nome\n",
    "        self.idade = idade\n",
    "        self.peso = None\n",
    "        self.altura = None\n",
    "        \n",
    "    def recuperar_info(self):\n",
    "        return f\"\"\"\n",
    "        Informações - {self.nome}\n",
    "        =========================\n",
    "        Idade - {self.idade}\n",
    "        Peso - {self.peso}\n",
    "        Altura - {self.altura}\n",
    "        \"\"\"\n",
    "        \n",
    "    def andar(self):\n",
    "        return f\"{self.nome} esta andando\"\n",
    "        \n",
    "    def falar(self):  \n",
    "        return f\"{self.nome} esta falando\""
   ]
  },
  {
   "cell_type": "code",
   "execution_count": 22,
   "metadata": {},
   "outputs": [
    {
     "ename": "TypeError",
     "evalue": "__init__() missing 2 required positional arguments: 'nome' and 'idade'",
     "output_type": "error",
     "traceback": [
      "\u001b[1;31m---------------------------------------------------------------------------\u001b[0m",
      "\u001b[1;31mTypeError\u001b[0m                                 Traceback (most recent call last)",
      "\u001b[1;32m<ipython-input-22-07334cece0d8>\u001b[0m in \u001b[0;36m<module>\u001b[1;34m\u001b[0m\n\u001b[1;32m----> 1\u001b[1;33m \u001b[0mmaria\u001b[0m \u001b[1;33m=\u001b[0m \u001b[0mPessoa\u001b[0m\u001b[1;33m(\u001b[0m\u001b[1;33m)\u001b[0m\u001b[1;33m\u001b[0m\u001b[1;33m\u001b[0m\u001b[0m\n\u001b[0m",
      "\u001b[1;31mTypeError\u001b[0m: __init__() missing 2 required positional arguments: 'nome' and 'idade'"
     ]
    }
   ],
   "source": [
    "maria = Pessoa()"
   ]
  },
  {
   "cell_type": "code",
   "execution_count": 23,
   "metadata": {},
   "outputs": [],
   "source": [
    "# instanciar\n",
    "maria = Pessoa('Maria', 30) "
   ]
  },
  {
   "cell_type": "code",
   "execution_count": 24,
   "metadata": {},
   "outputs": [
    {
     "name": "stdout",
     "output_type": "stream",
     "text": [
      "Maria\n",
      "30\n"
     ]
    }
   ],
   "source": [
    "print(maria.nome)\n",
    "print(maria.idade)"
   ]
  },
  {
   "cell_type": "code",
   "execution_count": 25,
   "metadata": {},
   "outputs": [],
   "source": [
    "maria.idade = 52"
   ]
  },
  {
   "cell_type": "code",
   "execution_count": 26,
   "metadata": {},
   "outputs": [
    {
     "name": "stdout",
     "output_type": "stream",
     "text": [
      "Maria\n",
      "52\n"
     ]
    }
   ],
   "source": [
    "print(maria.nome)\n",
    "print(maria.idade)"
   ]
  },
  {
   "cell_type": "code",
   "execution_count": 27,
   "metadata": {},
   "outputs": [
    {
     "data": {
      "text/plain": [
       "'Maria esta andando'"
      ]
     },
     "execution_count": 27,
     "metadata": {},
     "output_type": "execute_result"
    }
   ],
   "source": [
    "maria.andar()"
   ]
  },
  {
   "cell_type": "code",
   "execution_count": 28,
   "metadata": {},
   "outputs": [
    {
     "name": "stdout",
     "output_type": "stream",
     "text": [
      "\n",
      "        Informações - Maria\n",
      "        =========================\n",
      "        Idade - 52\n",
      "        Peso - None\n",
      "        Altura - None\n",
      "        \n"
     ]
    }
   ],
   "source": [
    "print(maria.recuperar_info())"
   ]
  },
  {
   "cell_type": "markdown",
   "metadata": {},
   "source": [
    "--- \n",
    "# Herança"
   ]
  },
  {
   "cell_type": "code",
   "execution_count": 29,
   "metadata": {},
   "outputs": [],
   "source": [
    "class Atleta(Pessoa):\n",
    "    def __init__(self, nome, idade, peso):\n",
    "        Pessoa.__init__(self, nome, idade)\n",
    "        self.peso = peso\n",
    "        self.aposentado = False\n",
    "        \n",
    "    def aposentar(self):\n",
    "        self.aposentado = True"
   ]
  },
  {
   "cell_type": "code",
   "execution_count": 30,
   "metadata": {},
   "outputs": [],
   "source": [
    "joao = Atleta('Joao',35,62)"
   ]
  },
  {
   "cell_type": "code",
   "execution_count": 31,
   "metadata": {},
   "outputs": [
    {
     "data": {
      "text/plain": [
       "'Joao'"
      ]
     },
     "execution_count": 31,
     "metadata": {},
     "output_type": "execute_result"
    }
   ],
   "source": [
    "joao.nome"
   ]
  },
  {
   "cell_type": "code",
   "execution_count": 32,
   "metadata": {},
   "outputs": [
    {
     "name": "stdout",
     "output_type": "stream",
     "text": [
      "\n",
      "        Informações - Joao\n",
      "        =========================\n",
      "        Idade - 35\n",
      "        Peso - 62\n",
      "        Altura - None\n",
      "        \n"
     ]
    }
   ],
   "source": [
    "print(joao.recuperar_info())"
   ]
  },
  {
   "cell_type": "code",
   "execution_count": 33,
   "metadata": {},
   "outputs": [],
   "source": [
    "joao.aposentar()"
   ]
  },
  {
   "cell_type": "code",
   "execution_count": 34,
   "metadata": {},
   "outputs": [
    {
     "data": {
      "text/plain": [
       "True"
      ]
     },
     "execution_count": 34,
     "metadata": {},
     "output_type": "execute_result"
    }
   ],
   "source": [
    "joao.aposentado"
   ]
  },
  {
   "cell_type": "code",
   "execution_count": 35,
   "metadata": {},
   "outputs": [],
   "source": [
    "class Corredor(Atleta):\n",
    "    def correr(self):\n",
    "        return f\"{self.nome} esta correndo\""
   ]
  },
  {
   "cell_type": "code",
   "execution_count": 36,
   "metadata": {},
   "outputs": [],
   "source": [
    "class Nadador(Atleta):\n",
    "    def nadar(self):\n",
    "        return f\"{self.nome} esta nadando\""
   ]
  },
  {
   "cell_type": "code",
   "execution_count": 37,
   "metadata": {},
   "outputs": [],
   "source": [
    "victor = Corredor('Victor',43,90)"
   ]
  },
  {
   "cell_type": "code",
   "execution_count": 38,
   "metadata": {},
   "outputs": [
    {
     "name": "stdout",
     "output_type": "stream",
     "text": [
      "\n",
      "        Informações - Victor\n",
      "        =========================\n",
      "        Idade - 43\n",
      "        Peso - 90\n",
      "        Altura - None\n",
      "        \n"
     ]
    }
   ],
   "source": [
    "print(victor.recuperar_info())"
   ]
  },
  {
   "cell_type": "code",
   "execution_count": 39,
   "metadata": {},
   "outputs": [
    {
     "data": {
      "text/plain": [
       "'Victor esta correndo'"
      ]
     },
     "execution_count": 39,
     "metadata": {},
     "output_type": "execute_result"
    }
   ],
   "source": [
    "victor.correr()"
   ]
  },
  {
   "cell_type": "code",
   "execution_count": 40,
   "metadata": {},
   "outputs": [],
   "source": [
    "# Herança Multipla\n",
    "class Biatleta(Corredor, Nadador):\n",
    "    def biatlo(self):\n",
    "        print(\"Iniciar prova\")"
   ]
  },
  {
   "cell_type": "code",
   "execution_count": 41,
   "metadata": {},
   "outputs": [],
   "source": [
    "elis = Biatleta('Elis',40,65)"
   ]
  },
  {
   "cell_type": "code",
   "execution_count": 42,
   "metadata": {},
   "outputs": [
    {
     "name": "stdout",
     "output_type": "stream",
     "text": [
      "Iniciar prova\n"
     ]
    }
   ],
   "source": [
    "elis.biatlo()"
   ]
  },
  {
   "cell_type": "code",
   "execution_count": 43,
   "metadata": {},
   "outputs": [
    {
     "data": {
      "text/plain": [
       "'\\n        Informações - Elis\\n        =========================\\n        Idade - 40\\n        Peso - 65\\n        Altura - None\\n        '"
      ]
     },
     "execution_count": 43,
     "metadata": {},
     "output_type": "execute_result"
    }
   ],
   "source": [
    "elis.recuperar_info()"
   ]
  },
  {
   "cell_type": "code",
   "execution_count": null,
   "metadata": {},
   "outputs": [],
   "source": []
  },
  {
   "cell_type": "code",
   "execution_count": null,
   "metadata": {},
   "outputs": [],
   "source": []
  }
 ],
 "metadata": {
  "kernelspec": {
   "display_name": "Python 3",
   "language": "python",
   "name": "python3"
  },
  "language_info": {
   "codemirror_mode": {
    "name": "ipython",
    "version": 3
   },
   "file_extension": ".py",
   "mimetype": "text/x-python",
   "name": "python",
   "nbconvert_exporter": "python",
   "pygments_lexer": "ipython3",
   "version": "3.7.6"
  }
 },
 "nbformat": 4,
 "nbformat_minor": 2
}
