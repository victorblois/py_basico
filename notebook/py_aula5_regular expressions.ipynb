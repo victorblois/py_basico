{
 "cells": [
  {
   "cell_type": "markdown",
   "metadata": {},
   "source": [
    "# Expressões Regulares  \n",
    "\n",
    "\n",
    "### Quantificadores \n",
    "\n",
    "Quantificador  \n",
    "\\+ : 1 ou mais   \n",
    "\\* : 0 ou mais    \n",
    "\\? : 0 ou 1  \n",
    "\n",
    "Exemplos  \n",
    "a ⟶ 'a'  \n",
    "a+ ⟶ 'a', 'aa', 'aaa', ...  \n",
    "a* ⟶ '', 'a', 'aa', 'aaa', ...    \n",
    "a? ⟶ '', 'a'  \n",
    "\n",
    "abc ⟶ 'abc'  \n",
    "ab+c ⟶ 'abc', 'abbc', 'abbbc'  \n",
    "a*bc ⟶ 'bc', 'abc', 'aabc', 'aaabc' \n",
    "ac?d ⟶ 'acd', 'ad'  \n",
    "\n",
    "### Classes de caracteres\n",
    "\n",
    "Classes de caracteres \n",
    "\n",
    "– Dígito: d  \n",
    "– Letra: [A-Z],[a-z],[a-zA-Z]  \n",
    "– Letra, dígito ou '_': \\w  \n",
    "\n",
    "O que casa com as seguintes expressões regulares  \n",
    "\n",
    "– \\d\\d\\d ⟶ '111', '121', '289'  \n",
    "– [a-z]\\w ⟶ 'a1', 'a_', 'cb'  \n",
    "– [A-Z]\\d\\d ⟶  'A23', 'B12', 'C89'  \n",
    "\n",
    "\n",
    "### Grupos \n",
    "\n",
    "Permitem agrupar trechos de strings. São úteis para\n",
    "extrair partes de uma string e/ou substituir strings.  \n",
    "Exemplos:  \n",
    "– Horas e minutos (HH:MM)  \n",
    "– \\d\\d:\\d\\d ⟶ Valida a string!  \n",
    "– (\\d\\d):(\\d\\d) ⟶ Separa em grupos para serem acessados usando \\1, \\2  \n",
    "\n",
    "\n",
    "É possível determinar o **inicio** e **fim** da string através dos metacaracteres ^ e \\\\$, respectivamente.\n",
    "Exemplos:  \n",
    "– ^inicio ⟶ Casa com 'inicio', porém não casa com '1inicio'  \n",
    "– fim\\\\$ ⟶ Casa  com  '2 fim', porém não casa com '2 fim 2'     \n",
    "– ^qualquerpadrao\\\\$ ⟶ Casa somente quando o padrão ocupa a linha inteira  \n",
    "^\\d\\d\\d\\\\$ ⟶ '222', '333', '234'\n"
   ]
  },
  {
   "cell_type": "markdown",
   "metadata": {},
   "source": [
    "# Padrões básicos\n",
    "a, X, 9, < : Caracteres ordinários que correspondem apenas a si mesmo.  \n",
    ". (um ponto) : Corresponde a qualquer caractere único, exceto nova linha '\\n'.  \n",
    "[...] : Corresponde a qualquer caractere incluído no conjunto.  \n",
    "[^...] : Corresponde a qualquer caractere não\n",
    "incluído no conjunto.  \n",
    "\\ : Utilizada para inibir a excepcionalidade de um caractere. Por exemplo, utilize \\\\. para corresponder a um ponto ou \\\\\\ para corresponder a uma barra invertida.  \n",
    "\\w : Corresponde a um caractere alfanumérico [a-zA-Z0-9_]. Se for maiúscula (\\W),corresponde a um caractere não alfanumérico.  \n",
    "\\s :  Corresponde a um único caractere de espaço em branco (nova linha, retorno, tabulação e forma [\\n,\\r,\\t,\\f]. Se for maiúscula (\\S), corresponde a um caractere não espaço em branco.  \n",
    "\\t,\\n,\\r Tabulação, Nova linha, Retorno.  \n",
    "\\d : Digito decimal [0-9]. Se for maiúscula (\\D), corresponde a um não dígito.  \n",
    "\n",
    "{n} : Exatamente n ocorrências.  \n",
    "{n,m} : No mínimo n ocorrências e no máximo m.  \n",
    "{n, } : No mínimo n ocorrências.\n",
    "{, m} : No máximo m ocorrências.  \n",
    "? : 0 ou 1 ocorrência; o mesmo que {0, 1}.  \n",
    "\\+ : 1 ou mais ocorrências; o mesmo que {,1}.  \n",
    "\\* : 0 ou mais ocorrências.  \n",
    "^ = inicio, $ = fim : Corresponde com o início ou fim de uma string.  \n",
    "(...) : Define um grupo para posterior extração ou reuso.  \n",
    "... | ... : Alternativa, corresponde tanto a expressão regular da esquerda, quanto da direita.\n",
    "\n"
   ]
  },
  {
   "cell_type": "markdown",
   "metadata": {},
   "source": [
    "# Exemplos:\n",
    "\n",
    "– a\\s\\*b ⟶ 'a b', 'ab'  \n",
    "– python[XYZ] ⟶ 'pythonX', 'pythonY', 'pythonZ'  \n",
    "– 1. ⟶ '11', '1!', '1z', '1 '  \n",
    "– .* ⟶ '', 'a', '1', ' '  qualquer coisa que preencha uma linha  \n",
    "– \\d\\d\\D ⟶ '12a', '18 ', '29z'  \n",
    "– [^abc]+ ⟶ 'd', 'de4', '12312312' ,'%sdz'  \n",
    "– py|thon ⟶ 'py', 'thon'  \n",
    "– c|\\d ⟶ 'c', '9', '0'  \n",
    "– P|y|t|h|0|n ⟶ 'P', 'y', 't', 'h', '0', 'n'  mesmo que [Pyth0n]  \n"
   ]
  },
  {
   "cell_type": "code",
   "execution_count": 1,
   "metadata": {},
   "outputs": [],
   "source": [
    "import re"
   ]
  },
  {
   "cell_type": "markdown",
   "metadata": {},
   "source": [
    "# re\n",
    "\n",
    "basicamente 3 funcoes (serch, findall, sub)\n",
    "\n",
    "###  search \n",
    "sintaxe re.search(padrão, string)  \n",
    "\n",
    "A função search procura pela primeira ocorrência da expressão regular dentro da string.  \n",
    "Esse método irá procurar pelo padrão no texto, se encontrar retorna o objeto correspondente, se não encontrar retorna None.  \n",
    "\n",
    "###  findall \n",
    "sintaxe re.findall(padrão, string)  \n",
    "\n",
    "Encontra todas as ocorrências de um padrão em um texto.\n",
    "O retorno será uma lista com todas as correspondências.\n",
    "\n",
    "###  sub \n",
    "Podemos utilizar o método sub para substituir o\n",
    "padrão encontrado por um valor específico.  \n",
    "Essa funcionalidade procura por todas as ocorrências\n",
    "de um padrão em um determinado texto e substitui.  \n",
    "Utilizando a variável dados criada anteriormente,\n",
    "substitua a virgula por ponto.  "
   ]
  },
  {
   "cell_type": "markdown",
   "metadata": {},
   "source": [
    "#### search"
   ]
  },
  {
   "cell_type": "code",
   "execution_count": 2,
   "metadata": {},
   "outputs": [],
   "source": [
    "texto = 'Victor Blois - 11-999999999'"
   ]
  },
  {
   "cell_type": "code",
   "execution_count": 3,
   "metadata": {},
   "outputs": [],
   "source": [
    "r = re.search('(\\d\\d)-(\\d{9})', texto)"
   ]
  },
  {
   "cell_type": "code",
   "execution_count": 4,
   "metadata": {},
   "outputs": [
    {
     "name": "stdout",
     "output_type": "stream",
     "text": [
      "11-999999999\n"
     ]
    }
   ],
   "source": [
    "print(r.group())"
   ]
  },
  {
   "cell_type": "code",
   "execution_count": 5,
   "metadata": {},
   "outputs": [
    {
     "name": "stdout",
     "output_type": "stream",
     "text": [
      "11\n"
     ]
    }
   ],
   "source": [
    "print(r.group(1))"
   ]
  },
  {
   "cell_type": "code",
   "execution_count": 6,
   "metadata": {},
   "outputs": [
    {
     "name": "stdout",
     "output_type": "stream",
     "text": [
      "999999999\n"
     ]
    }
   ],
   "source": [
    "print(r.group(2))"
   ]
  },
  {
   "cell_type": "markdown",
   "metadata": {},
   "source": [
    "#### findall"
   ]
  },
  {
   "cell_type": "code",
   "execution_count": 7,
   "metadata": {},
   "outputs": [],
   "source": [
    "texto = \"\"\"\n",
    "01/12/2019 - IPAD3 - R$ 1287,99\n",
    "01/12/2019 - GALAXY - R$ 987,56\n",
    "\"\"\""
   ]
  },
  {
   "cell_type": "code",
   "execution_count": 8,
   "metadata": {},
   "outputs": [],
   "source": [
    "datas = re.findall('\\d\\d/\\d\\d/\\d{4}',texto)"
   ]
  },
  {
   "cell_type": "code",
   "execution_count": 9,
   "metadata": {},
   "outputs": [
    {
     "name": "stdout",
     "output_type": "stream",
     "text": [
      "['01/12/2019', '01/12/2019']\n"
     ]
    }
   ],
   "source": [
    "print(datas)"
   ]
  },
  {
   "cell_type": "code",
   "execution_count": 10,
   "metadata": {},
   "outputs": [],
   "source": [
    "resultado = re.sub(',', '.', texto)"
   ]
  },
  {
   "cell_type": "code",
   "execution_count": 11,
   "metadata": {},
   "outputs": [
    {
     "name": "stdout",
     "output_type": "stream",
     "text": [
      "\n",
      "01/12/2019 - IPAD3 - R$ 1287.99\n",
      "01/12/2019 - GALAXY - R$ 987.56\n",
      "\n"
     ]
    }
   ],
   "source": [
    "print(resultado)"
   ]
  },
  {
   "cell_type": "code",
   "execution_count": 12,
   "metadata": {},
   "outputs": [],
   "source": [
    "texto = 'Programando em python em 3 2 1!'"
   ]
  },
  {
   "cell_type": "code",
   "execution_count": 13,
   "metadata": {},
   "outputs": [],
   "source": [
    "r = re.search('python', texto)"
   ]
  },
  {
   "cell_type": "code",
   "execution_count": 14,
   "metadata": {},
   "outputs": [
    {
     "name": "stdout",
     "output_type": "stream",
     "text": [
      "<re.Match object; span=(15, 21), match='python'>\n"
     ]
    }
   ],
   "source": [
    "print(r)"
   ]
  },
  {
   "cell_type": "code",
   "execution_count": 15,
   "metadata": {},
   "outputs": [
    {
     "name": "stdout",
     "output_type": "stream",
     "text": [
      "python\n"
     ]
    }
   ],
   "source": [
    "print(r.group())"
   ]
  },
  {
   "cell_type": "code",
   "execution_count": 18,
   "metadata": {},
   "outputs": [],
   "source": [
    "import os.path\n",
    "def path_base(base_name):\n",
    "    current_dir = os.path.abspath(os.path.join(os.getcwd()))\n",
    "    data_dir = current_dir.replace('notebook','data')\n",
    "    data_base = data_dir + '\\\\' + base_name\n",
    "    return data_base"
   ]
  },
  {
   "cell_type": "code",
   "execution_count": 19,
   "metadata": {},
   "outputs": [],
   "source": [
    "# Ex1\n",
    "arquivo = open(path_base('dados_re.txt'))\n",
    "dados = arquivo.read()\n",
    "arquivo.close()"
   ]
  },
  {
   "cell_type": "code",
   "execution_count": 20,
   "metadata": {},
   "outputs": [
    {
     "data": {
      "text/plain": [
       "'20/10/2016\\t08:34:20\\t\\t-1,12\\tnczq@cswezs.org\\n16/12/2018\\t05:09:48\\t\\t30,06\\tgnnl@sqdgtsgsyuk.gov\\n23/04/2019\\t05:30:20\\t\\t54,44\\tmbmecf@iegepivgrs.gov\\n25/04/2019\\t06:13:03\\t\\t50,48\\tqjjmvpw@gxktxjvkijsg.gov\\n01/08/2017\\t18:17:18\\t\\t88,48\\tllcnm@mliuoqkeuavj.net\\n11/09/2013\\t12:47:20\\t-72,89\\tstmkrx@jtgyceuxqqv.com\\t\\n09/09/2016\\t05:22:31\\t-59,82\\thkebpj@yovuawpaxzrz.net\\t\\n29/03/2013\\t23:00:13\\t\\t49,23\\tazqiqp@kqekkdaog.org\\n26/02/2019\\t14:34:18\\t\\t96,23\\tuaid@btbdmlk.org\\n28/02/2019\\t16:26:14\\t\\t93,53\\towoejbc@bqpzndxp.gov\\n07/04/2019\\t23:42:02\\t\\t93,53\\tobgeo@qioqwx.gov\\n15/02/2019\\t10:39:54\\t-77,28\\txjkmxk@cltllsls.com\\t\\n18/01/2019\\t02:00:16\\t-14,75\\thoymbm@lzwofgfhv.com\\t\\n02/07/2019\\t10:36:13\\t\\t82,57\\twwbyq@bmtmi.com\\n30/10/2018\\t01:16:34\\t\\t-74,3\\twibd@fqkalowcok.gov\\n09/06/2019\\t16:06:18\\t-73,85\\tkzdyn@rzuwzglodflg.edu\\t\\n12/08/2019\\t01:28:50\\tg\\t47,2\\tqmxehx@unzgdpubvbxv.or\\n16/07/2019\\t10:46:41\\tv\\t52,8\\theqcxlz@lgvaggfipgrm.go\\n07/12/2018\\t05:47:45\\t\\t29,29\\tnwcvbbk@sxkorwbz.edu\\n26/01/2019\\t10:38:19\\t\\t21,78\\txizyd@dfkgcnednvjx.edu\\n24/01/2019\\t01:21:05\\t\\t91,26\\tgmnps@eqmrw.gov\\n30/11/2016\\t02:38:10\\t-77,81\\tmvpez@efbaeqnrvy.edu\\t\\n26/11/2017\\t15:12:48\\t-18,89\\tioifx@xustm.net\\t'"
      ]
     },
     "execution_count": 20,
     "metadata": {},
     "output_type": "execute_result"
    }
   ],
   "source": [
    "dados"
   ]
  },
  {
   "cell_type": "code",
   "execution_count": 21,
   "metadata": {},
   "outputs": [],
   "source": [
    "resultado = re.findall('-?\\d+,\\d+', dados)"
   ]
  },
  {
   "cell_type": "code",
   "execution_count": 22,
   "metadata": {},
   "outputs": [
    {
     "name": "stdout",
     "output_type": "stream",
     "text": [
      "['-1,12', '30,06', '54,44', '50,48', '88,48', '-72,89', '-59,82', '49,23', '96,23', '93,53', '93,53', '-77,28', '-14,75', '82,57', '-74,3', '-73,85', '47,2', '52,8', '29,29', '21,78', '91,26', '-77,81', '-18,89']\n"
     ]
    }
   ],
   "source": [
    "print(resultado)"
   ]
  },
  {
   "cell_type": "code",
   "execution_count": 23,
   "metadata": {},
   "outputs": [],
   "source": [
    "# fazer analise exploratoria"
   ]
  },
  {
   "cell_type": "code",
   "execution_count": 24,
   "metadata": {},
   "outputs": [],
   "source": [
    "def convert_float(lista):\n",
    "    aux = [float(re.sub(',','.',aux)) for aux in lista]\n",
    "    return aux"
   ]
  },
  {
   "cell_type": "code",
   "execution_count": 25,
   "metadata": {},
   "outputs": [],
   "source": [
    "resultado = convert_float(resultado)"
   ]
  },
  {
   "cell_type": "code",
   "execution_count": 26,
   "metadata": {},
   "outputs": [
    {
     "name": "stdout",
     "output_type": "stream",
     "text": [
      "[-1.12, 30.06, 54.44, 50.48, 88.48, -72.89, -59.82, 49.23, 96.23, 93.53, 93.53, -77.28, -14.75, 82.57, -74.3, -73.85, 47.2, 52.8, 29.29, 21.78, 91.26, -77.81, -18.89]\n"
     ]
    }
   ],
   "source": [
    "print(resultado)"
   ]
  },
  {
   "cell_type": "code",
   "execution_count": 27,
   "metadata": {},
   "outputs": [],
   "source": [
    "import statistics\n",
    "def estatistica_lista(lista): \n",
    "    return {\"min\": min(lista),\n",
    "            \"mean\": round(statistics.mean(lista),4), \n",
    "            \"median\": round(statistics.median(lista),4), \n",
    "            \"mode\": round(statistics.mode(lista),4),\n",
    "            \"max\":max(lista)}"
   ]
  },
  {
   "cell_type": "code",
   "execution_count": 28,
   "metadata": {},
   "outputs": [
    {
     "name": "stdout",
     "output_type": "stream",
     "text": [
      "{'min': -77.81, 'mean': 17.8335, 'median': 30.06, 'mode': 93.53, 'max': 96.23}\n"
     ]
    }
   ],
   "source": [
    "print(estatistica_lista(resultado))"
   ]
  },
  {
   "cell_type": "code",
   "execution_count": null,
   "metadata": {},
   "outputs": [],
   "source": []
  }
 ],
 "metadata": {
  "kernelspec": {
   "display_name": "Python 3",
   "language": "python",
   "name": "python3"
  },
  "language_info": {
   "codemirror_mode": {
    "name": "ipython",
    "version": 3
   },
   "file_extension": ".py",
   "mimetype": "text/x-python",
   "name": "python",
   "nbconvert_exporter": "python",
   "pygments_lexer": "ipython3",
   "version": "3.7.6"
  }
 },
 "nbformat": 4,
 "nbformat_minor": 2
}
